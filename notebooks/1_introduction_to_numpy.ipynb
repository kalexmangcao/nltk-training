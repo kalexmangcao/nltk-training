{
  "nbformat": 4,
  "nbformat_minor": 0,
  "metadata": {
    "colab": {
      "name": "1-introduction-to-numpy.ipynb",
      "version": "0.3.2",
      "provenance": [],
      "collapsed_sections": []
    },
    "kernelspec": {
      "name": "python3",
      "display_name": "Python 3"
    },
    "accelerator": "GPU"
  },
  "cells": [
    {
      "metadata": {
        "id": "QqhxO8eNaCmi",
        "colab_type": "code",
        "colab": {
          "base_uri": "https://localhost:8080/",
          "height": 34
        },
        "outputId": "568b5405-f5f3-4381-f921-0ba787e33d2f"
      },
      "cell_type": "code",
      "source": [
        "#NLTK Training (Numpy)\n",
        "\n",
        "message = 'alex'\n",
        "print(message)"
      ],
      "execution_count": 1,
      "outputs": [
        {
          "output_type": "stream",
          "text": [
            "alex\n"
          ],
          "name": "stdout"
        }
      ]
    },
    {
      "metadata": {
        "id": "en1snyrUbIbX",
        "colab_type": "code",
        "colab": {
          "base_uri": "https://localhost:8080/",
          "height": 51
        },
        "outputId": "7bf0f3a6-cf54-4c80-da9d-449ed2caf7f1"
      },
      "cell_type": "code",
      "source": [
        "name = input(\"What is your name?\")\n",
        "print('Hello', name)"
      ],
      "execution_count": 5,
      "outputs": [
        {
          "output_type": "stream",
          "text": [
            "What is your name?alex\n",
            "Hello alex\n"
          ],
          "name": "stdout"
        }
      ]
    },
    {
      "metadata": {
        "id": "An15d372cNA1",
        "colab_type": "code",
        "colab": {
          "base_uri": "https://localhost:8080/",
          "height": 34
        },
        "outputId": "2c0d2106-007e-412b-da3a-b0771312e66f"
      },
      "cell_type": "code",
      "source": [
        "#Slicing \n",
        "subjects = ['math', 'science', 'health', 'programming']\n",
        "\n",
        "subjects [1:] #access all elements starting from items at index 1(which is the 2nd element)"
      ],
      "execution_count": 8,
      "outputs": [
        {
          "output_type": "execute_result",
          "data": {
            "text/plain": [
              "['science', 'health', 'programming']"
            ]
          },
          "metadata": {
            "tags": []
          },
          "execution_count": 8
        }
      ]
    },
    {
      "metadata": {
        "id": "gB9RyBqRcpGb",
        "colab_type": "code",
        "colab": {
          "base_uri": "https://localhost:8080/",
          "height": 34
        },
        "outputId": "ed822547-1477-4086-92aa-7cb6fb192fdb"
      },
      "cell_type": "code",
      "source": [
        "subjects [1:3] #access all elements starting from items at index 1 up to item in index (which is the 2nd element)"
      ],
      "execution_count": 9,
      "outputs": [
        {
          "output_type": "execute_result",
          "data": {
            "text/plain": [
              "['science', 'health']"
            ]
          },
          "metadata": {
            "tags": []
          },
          "execution_count": 9
        }
      ]
    },
    {
      "metadata": {
        "id": "srDIIRiLc0q8",
        "colab_type": "code",
        "colab": {}
      },
      "cell_type": "code",
      "source": [
        "#Dictionary\n",
        "scientist = {'Name': 'Allan Turing', 'Field': 'Mathematics'}"
      ],
      "execution_count": 0,
      "outputs": []
    },
    {
      "metadata": {
        "id": "ffIh86mWdNu_",
        "colab_type": "code",
        "colab": {
          "base_uri": "https://localhost:8080/",
          "height": 34
        },
        "outputId": "626ad6f5-90da-47a7-a6c1-48fcf2fec003"
      },
      "cell_type": "code",
      "source": [
        "print('Name', scientist['Name'])"
      ],
      "execution_count": 11,
      "outputs": [
        {
          "output_type": "stream",
          "text": [
            "Name Allan Turing\n"
          ],
          "name": "stdout"
        }
      ]
    },
    {
      "metadata": {
        "id": "MXROzLdAdVww",
        "colab_type": "code",
        "colab": {}
      },
      "cell_type": "code",
      "source": [
        "scientist['Field'] = 'Mathematics', 'Computer Science', 'Biology'"
      ],
      "execution_count": 0,
      "outputs": []
    },
    {
      "metadata": {
        "id": "wzMTiKA-deWQ",
        "colab_type": "code",
        "colab": {
          "base_uri": "https://localhost:8080/",
          "height": 34
        },
        "outputId": "8e759e9f-4961-48db-d54b-5af1edc68ffe"
      },
      "cell_type": "code",
      "source": [
        "len(scientist)"
      ],
      "execution_count": 13,
      "outputs": [
        {
          "output_type": "execute_result",
          "data": {
            "text/plain": [
              "2"
            ]
          },
          "metadata": {
            "tags": []
          },
          "execution_count": 13
        }
      ]
    },
    {
      "metadata": {
        "id": "mazJ74XIdnMZ",
        "colab_type": "code",
        "colab": {
          "base_uri": "https://localhost:8080/",
          "height": 34
        },
        "outputId": "d8880104-b4d6-42e1-d826-956bddc03da0"
      },
      "cell_type": "code",
      "source": [
        "scientist.keys()"
      ],
      "execution_count": 14,
      "outputs": [
        {
          "output_type": "execute_result",
          "data": {
            "text/plain": [
              "dict_keys(['Name', 'Field'])"
            ]
          },
          "metadata": {
            "tags": []
          },
          "execution_count": 14
        }
      ]
    },
    {
      "metadata": {
        "id": "jTH6ZKpddrnb",
        "colab_type": "code",
        "colab": {
          "base_uri": "https://localhost:8080/",
          "height": 34
        },
        "outputId": "55fdbef2-7b82-453a-dbf7-4aa97a136a2b"
      },
      "cell_type": "code",
      "source": [
        "import numpy as np\n",
        "#create an array\n",
        "x = np.array([1, 2, 3])\n",
        "print(x)"
      ],
      "execution_count": 19,
      "outputs": [
        {
          "output_type": "stream",
          "text": [
            "[1 2 3]\n"
          ],
          "name": "stdout"
        }
      ]
    },
    {
      "metadata": {
        "id": "EWinshjYfHJ6",
        "colab_type": "code",
        "colab": {
          "base_uri": "https://localhost:8080/",
          "height": 51
        },
        "outputId": "5dfa4f72-dc74-43df-80c7-6f61777c565f"
      },
      "cell_type": "code",
      "source": [
        "#Create a zero array\n",
        "a = np.zeros((2, 2))\n",
        "print(a)"
      ],
      "execution_count": 27,
      "outputs": [
        {
          "output_type": "stream",
          "text": [
            "[[0. 0.]\n",
            " [0. 0.]]\n"
          ],
          "name": "stdout"
        }
      ]
    },
    {
      "metadata": {
        "id": "ppzd4LoqgW2R",
        "colab_type": "code",
        "colab": {
          "base_uri": "https://localhost:8080/",
          "height": 51
        },
        "outputId": "fed725d9-06cc-49f7-eeae-ac8d8ebf794e"
      },
      "cell_type": "code",
      "source": [
        "#Create a one Array\n",
        "b = np.ones((2, 2))\n",
        "print(b)"
      ],
      "execution_count": 26,
      "outputs": [
        {
          "output_type": "stream",
          "text": [
            "[[1. 1.]\n",
            " [1. 1.]]\n"
          ],
          "name": "stdout"
        }
      ]
    },
    {
      "metadata": {
        "id": "t-OPxtNfgcHz",
        "colab_type": "code",
        "colab": {
          "base_uri": "https://localhost:8080/",
          "height": 34
        },
        "outputId": "0dfad0de-35c1-4796-8e21-36e980034ac1"
      },
      "cell_type": "code",
      "source": [
        "#Create a random Array\n",
        "c = np.random.randint(10, size = (5))\n",
        "print(c)"
      ],
      "execution_count": 23,
      "outputs": [
        {
          "output_type": "stream",
          "text": [
            "[5 6 5 8 5]\n"
          ],
          "name": "stdout"
        }
      ]
    },
    {
      "metadata": {
        "id": "yy3gPnXUggJn",
        "colab_type": "code",
        "colab": {
          "base_uri": "https://localhost:8080/",
          "height": 34
        },
        "outputId": "b275f607-7d0f-4d89-ece9-398f0e38884e"
      },
      "cell_type": "code",
      "source": [
        "#Create a random Array\n",
        "d = np.random.randint(10, size = (5))\n",
        "print(d)"
      ],
      "execution_count": 24,
      "outputs": [
        {
          "output_type": "stream",
          "text": [
            "[8 4 1 1 3]\n"
          ],
          "name": "stdout"
        }
      ]
    },
    {
      "metadata": {
        "id": "gRD_Qzs2gvLQ",
        "colab_type": "code",
        "colab": {
          "base_uri": "https://localhost:8080/",
          "height": 34
        },
        "outputId": "f3574724-92f3-4dee-b771-517f23b203ac"
      },
      "cell_type": "code",
      "source": [
        "p = c + d\n",
        "print(p)"
      ],
      "execution_count": 25,
      "outputs": [
        {
          "output_type": "stream",
          "text": [
            "[13 10  6  9  8]\n"
          ],
          "name": "stdout"
        }
      ]
    },
    {
      "metadata": {
        "id": "yot9tM3bg2fR",
        "colab_type": "code",
        "colab": {
          "base_uri": "https://localhost:8080/",
          "height": 51
        },
        "outputId": "2060838a-1466-482c-c115-0c17f27edcf0"
      },
      "cell_type": "code",
      "source": [
        "#Create a random float array\n",
        "e = np.random.random((2, 2))\n",
        "print(e)"
      ],
      "execution_count": 30,
      "outputs": [
        {
          "output_type": "stream",
          "text": [
            "[[0.14024507 0.65095446]\n",
            " [0.68591418 0.31497532]]\n"
          ],
          "name": "stdout"
        }
      ]
    },
    {
      "metadata": {
        "id": "xficBakBhTsY",
        "colab_type": "code",
        "colab": {}
      },
      "cell_type": "code",
      "source": [
        "#Matrix multiply\n",
        "np.dot(x,y)\n",
        "x.dot(y)\n",
        "y.dot(x)"
      ],
      "execution_count": 0,
      "outputs": []
    },
    {
      "metadata": {
        "id": "p2uAUFnBhx78",
        "colab_type": "code",
        "colab": {}
      },
      "cell_type": "code",
      "source": [
        "#returns index of max value\n",
        "np.argmax(x, axis = 1) #getting the max value at index 1\n",
        "np.argmax(y, axis = 0) #getting the max value at index 0"
      ],
      "execution_count": 0,
      "outputs": []
    },
    {
      "metadata": {
        "id": "wIl6BEmhh_0M",
        "colab_type": "code",
        "colab": {}
      },
      "cell_type": "code",
      "source": [
        "#For iteration over an array x\n",
        "for number in x:\n",
        "  print(number, end = '')# printing a number with space as between"
      ],
      "execution_count": 0,
      "outputs": []
    },
    {
      "metadata": {
        "id": "1cAew2rph_20",
        "colab_type": "code",
        "colab": {}
      },
      "cell_type": "code",
      "source": [
        "#how to see the type of data in array\n",
        "#array.dtype\n",
        "#or as parameter -> dtype = \"desired type of data\""
      ],
      "execution_count": 0,
      "outputs": []
    },
    {
      "metadata": {
        "id": "dx2NRsM5h_6M",
        "colab_type": "code",
        "colab": {
          "base_uri": "https://localhost:8080/",
          "height": 68
        },
        "outputId": "1d093418-4b2e-47d2-c6fd-53dd2f829272"
      },
      "cell_type": "code",
      "source": [
        "x = np.array([[1,2], [3, 4]])\n",
        "\n",
        "print(np.sum(x))\n",
        "print(np.sum(x, axis = 0)) #getting the sum value at each column\n",
        "print(np.sum(x, axis = 1)) #getting the sum value at each row\n"
      ],
      "execution_count": 33,
      "outputs": [
        {
          "output_type": "stream",
          "text": [
            "10\n",
            "[4 6]\n",
            "[3 7]\n"
          ],
          "name": "stdout"
        }
      ]
    },
    {
      "metadata": {
        "id": "L93293oFiABi",
        "colab_type": "code",
        "colab": {
          "base_uri": "https://localhost:8080/",
          "height": 731
        },
        "outputId": "0cb225f0-25e4-46cd-bf0e-a6dd0562a90a"
      },
      "cell_type": "code",
      "source": [
        "#Exercise at Numpy Programming \n",
        "A = np.array([[25, 5, 16, 9], [13, 20, 19, 0], [5, 9, 1, 16], [27, 13, 15, 19]])\n",
        "B = np.array([[10, 5, 20, 20], [5, 21, 22, 27], [26, 19, 22, 3], [27, 8, 18, 7]])\n",
        "c = np.array([24, 3, 17, 7, 11, 2, 21, 2, 24, 18, 3, 11, 14, 25, 2, 20])\n",
        "d = np.array([3, 15, 24, 22, 19, 24, 4, 29, 6, 3, 20, 1, 11, 25, 26, 6])\n",
        "\n",
        "print(np.add(A, B))\n",
        "print(np.subtract(A, B))\n",
        "print(np.multiply(A, B))\n",
        "print(np.dot(A, B))\n",
        "print(np.add(c, d))\n",
        "print(np.subtract(c, d))\n",
        "print(np.multiply(c, d))\n",
        "print(np.dot(c, d))\n",
        "print(np.add(A, 10))\n",
        "print(np.add(B, 10))\n",
        "print(np.add(c, 15))\n",
        "print(np.add(d, 15))\n",
        "print(np.add((np.multiply(2, A)),(np.multiply(2, B))))\n",
        "print(np.multiply((np.add(A, B)), 3))\n",
        "print(np.multiply((A - B + A - B + B ), 4))"
      ],
      "execution_count": 51,
      "outputs": [
        {
          "output_type": "stream",
          "text": [
            "[[35 10 36 29]\n",
            " [18 41 41 27]\n",
            " [31 28 23 19]\n",
            " [54 21 33 26]]\n",
            "[[ 15   0  -4 -11]\n",
            " [  8  -1  -3 -27]\n",
            " [-21 -10 -21  13]\n",
            " [  0   5  -3  12]]\n",
            "[[250  25 320 180]\n",
            " [ 65 420 418   0]\n",
            " [130 171  22  48]\n",
            " [729 104 270 133]]\n",
            "[[ 934  606 1124  746]\n",
            " [ 724  846 1118  857]\n",
            " [ 553  361  608  458]\n",
            " [1238  845 1498 1069]]\n",
            "[27 18 41 29 30 26 25 31 30 21 23 12 25 50 28 26]\n",
            "[ 21 -12  -7 -15  -8 -22  17 -27  18  15 -17  10   3   0 -24  14]\n",
            "[ 72  45 408 154 209  48  84  58 144  54  60  11 154 625  52 120]\n",
            "2298\n",
            "[[35 15 26 19]\n",
            " [23 30 29 10]\n",
            " [15 19 11 26]\n",
            " [37 23 25 29]]\n",
            "[[20 15 30 30]\n",
            " [15 31 32 37]\n",
            " [36 29 32 13]\n",
            " [37 18 28 17]]\n",
            "[39 18 32 22 26 17 36 17 39 33 18 26 29 40 17 35]\n",
            "[18 30 39 37 34 39 19 44 21 18 35 16 26 40 41 21]\n",
            "[[ 70  20  72  58]\n",
            " [ 36  82  82  54]\n",
            " [ 62  56  46  38]\n",
            " [108  42  66  52]]\n",
            "[[105  30 108  87]\n",
            " [ 54 123 123  81]\n",
            " [ 93  84  69  57]\n",
            " [162  63  99  78]]\n",
            "[[ 160   20   48   -8]\n",
            " [  84   76   64 -108]\n",
            " [ -64   -4  -80  116]\n",
            " [ 108   72   48  124]]\n"
          ],
          "name": "stdout"
        }
      ]
    },
    {
      "metadata": {
        "id": "DaoJR5IImw2G",
        "colab_type": "code",
        "colab": {}
      },
      "cell_type": "code",
      "source": [
        "#NLTK\n",
        "#Sentiment Classification"
      ],
      "execution_count": 0,
      "outputs": []
    },
    {
      "metadata": {
        "id": "7TAIwNovsQVk",
        "colab_type": "code",
        "colab": {}
      },
      "cell_type": "code",
      "source": [
        ""
      ],
      "execution_count": 0,
      "outputs": []
    },
    {
      "metadata": {
        "id": "GA4DXdX5yOE5",
        "colab_type": "code",
        "colab": {}
      },
      "cell_type": "code",
      "source": [
        ""
      ],
      "execution_count": 0,
      "outputs": []
    }
  ]
}